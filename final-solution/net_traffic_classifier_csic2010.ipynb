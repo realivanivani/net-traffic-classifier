{
 "cells": [
  {
   "cell_type": "markdown",
   "metadata": {},
   "source": [
    "# Anomaly detection - HTTP requests - CSIC dataset 2010\n",
    "\n",
    "## Task\n",
    "The primary objective is to develop a classifier capable of identifying malicious HTTP requests by training on normal traffic data and evaluating both normal and anomalous test data. The dataset is structured as follows:\n",
    "\n",
    " * Normal Traffic (Train)\n",
    " * Normal Traffic (Test)\n",
    " * Anomalous Traffic (Test)\n",
    "\n",
    "Although the dataset is designed for unsupervised learning, supervised learning techniques can be applied by combining normal and anomalous data into a labeled dataset. This allows for direct classification using any preferred machine learning model.\n",
    "\n",
    "## Dataset\n",
    "The dataset contains the generated traffic targeted to an e-commerce web\n",
    "application. It is an automatically generated dataset that contains 36,000 normal\n",
    "requests and more than 25,000 anomalous requests (i.e., web attacks)."
   ]
  },
  {
   "cell_type": "markdown",
   "metadata": {},
   "source": [
    "### 0. Packages"
   ]
  },
  {
   "cell_type": "code",
   "execution_count": null,
   "metadata": {},
   "outputs": [],
   "source": [
    "import pandas as pd\n",
    "import numpy as np\n",
    "from sklearn.model_selection import train_test_split\n",
    "from sklearn.feature_extraction.text import TfidfVectorizer\n",
    "from sklearn.ensemble import RandomForestClassifier\n",
    "from sklearn.metrics import classification_report, accuracy_score\n",
    "from sklearn.pipeline import Pipeline\n",
    "import re"
   ]
  },
  {
   "cell_type": "markdown",
   "metadata": {},
   "source": [
    "### 1. Data Load and Preparation\n",
    "\n",
    "Data Preprocessing:\n",
    "\n",
    "* Combine HTTP method, URL, version, user-agent, and body into a single text feature\n",
    "\n",
    "* Perform basic text cleaning (lowercasing, removing special characters)\n",
    "\n",
    "Feature Extraction:\n",
    "\n",
    "* Use TF-IDF with n-grams (1-2 words) to convert text to numerical features\n",
    "\n",
    "* Limit to top 1000 features to manage dimensionality"
   ]
  },
  {
   "cell_type": "code",
   "execution_count": 21,
   "metadata": {},
   "outputs": [],
   "source": [
    "\n",
    "def preprocess_data(df):\n",
    "    \"\"\"Preprocess the HTTP request data\"\"\"\n",
    "    # Combine relevant features into a single text feature\n",
    "    df['text'] = df['Method'] + ' ' + df['URL'] + ' ' + df['HTTP_Version'] + ' ' + df['User-Agent']\n",
    "    \n",
    "    # Add body content if exists\n",
    "    df['text'] = df.apply(lambda x: x['text'] + ' ' + str(x['Body']) if pd.notna(x['Body']) else x['text'], axis=1)\n",
    "    \n",
    "    # Basic text cleaning\n",
    "    df['text'] = df['text'].apply(lambda x: re.sub(r'[^\\w\\s]', '', str(x).lower()))\n",
    "    \n",
    "    return df\n",
    "\n",
    "def load_and_prepare_data(filepath):\n",
    "    \"\"\"Load and prepare the dataset\"\"\"\n",
    "    df = pd.read_csv(filepath)\n",
    "    \n",
    "    # Preprocess the data\n",
    "    df = preprocess_data(df)\n",
    "    \n",
    "    # Extract features and labels\n",
    "    X = df['text']\n",
    "    y = df['Normal_Anom']\n",
    "    \n",
    "    return X, y"
   ]
  },
  {
   "cell_type": "markdown",
   "metadata": {},
   "source": [
    "### 2. Model Training\n",
    "\n",
    "* We'll use Random Forest classifier which works well with text data"
   ]
  },
  {
   "cell_type": "code",
   "execution_count": 22,
   "metadata": {},
   "outputs": [],
   "source": [
    "def train_model(X_train, y_train):\n",
    "    \"\"\"Train a classification model\"\"\"\n",
    "    # Create a pipeline with TF-IDF and Random Forest\n",
    "    pipeline = Pipeline([\n",
    "        ('tfidf', TfidfVectorizer(max_features=1000, ngram_range=(1, 2))),\n",
    "        ('clf', RandomForestClassifier(n_estimators=100, random_state=42))\n",
    "    ])\n",
    "    \n",
    "    # Train the model\n",
    "    pipeline.fit(X_train, y_train)\n",
    "    \n",
    "    return pipeline"
   ]
  },
  {
   "cell_type": "markdown",
   "metadata": {},
   "source": [
    "### 3. Model Evaluation\n",
    "\n",
    "* Provide accuracy and classification report (precision, recall, F1-score)\n",
    "\n",
    "* Use stratified sampling to maintain class distribution"
   ]
  },
  {
   "cell_type": "code",
   "execution_count": 23,
   "metadata": {},
   "outputs": [],
   "source": [
    "\n",
    "def evaluate_model(model, X_test, y_test):\n",
    "    \"\"\"Evaluate the model performance\"\"\"\n",
    "    y_pred = model.predict(X_test)\n",
    "    \n",
    "    print(\"Accuracy:\", accuracy_score(y_test, y_pred))\n",
    "    print(\"\\nClassification Report:\")\n",
    "    print(classification_report(y_test, y_pred))"
   ]
  },
  {
   "cell_type": "markdown",
   "metadata": {},
   "source": [
    "### 4. Main execution"
   ]
  },
  {
   "cell_type": "code",
   "execution_count": 24,
   "metadata": {},
   "outputs": [
    {
     "name": "stdout",
     "output_type": "stream",
     "text": [
      "Accuracy: 0.81809247956967\n",
      "\n",
      "Classification Report:\n",
      "              precision    recall  f1-score   support\n",
      "\n",
      "   Anomalous       1.00      0.29      0.45      4934\n",
      "      Normal       0.80      1.00      0.89     14400\n",
      "\n",
      "    accuracy                           0.82     19334\n",
      "   macro avg       0.90      0.64      0.67     19334\n",
      "weighted avg       0.85      0.82      0.78     19334\n",
      "\n",
      "\n",
      "Example prediction for 'GET http://example.com/login.php HTTP/1.1 Mozilla/5.0':\n",
      "['Anomalous']\n"
     ]
    }
   ],
   "source": [
    "\n",
    "def main():\n",
    "    # Load and prepare data\n",
    "    X, y = load_and_prepare_data('http_requests_all.csv')\n",
    "    \n",
    "    # Split into train and test sets\n",
    "    X_train, X_test, y_train, y_test = train_test_split(\n",
    "        X, y, test_size=0.2, random_state=42, stratify=y\n",
    "    )\n",
    "    \n",
    "    # Train the model\n",
    "    model = train_model(X_train, y_train)\n",
    "    \n",
    "    # Evaluate the model\n",
    "    evaluate_model(model, X_test, y_test)\n",
    "    \n",
    "    # Example prediction\n",
    "    example_request = \"GET http://example.com/login.php HTTP/1.1 Mozilla/5.0\"\n",
    "    print(f\"\\nExample prediction for '{example_request}':\")\n",
    "    print(model.predict([example_request]))\n",
    "\n",
    "if __name__ == \"__main__\":\n",
    "    main()"
   ]
  },
  {
   "cell_type": "markdown",
   "metadata": {},
   "source": [
    "## Enhancements that we can make:\n",
    "\n",
    "1. Advanced Feature Engineering:\n",
    "\n",
    "- Extract specific URL patterns, parameter counts, etc.\n",
    "\n",
    "- Add length-based features (URL length, parameter length)\n",
    "\n",
    "- Detect special characters or encodings\n",
    "\n",
    "2. Model Improvements:\n",
    "\n",
    "- Try other algorithms like SVM or neural networks\n",
    "\n",
    "- Use grid search for hyperparameter tuning\n",
    "\n",
    "- Implement ensemble methods\n",
    "\n",
    "3. Handling Imbalanced Data:\n",
    "\n",
    "- Use SMOTE or other techniques if anomalies are rare\n",
    "\n",
    "- Adjust class weights in the classifier\n",
    "\n",
    "4. Deployment:\n",
    "\n",
    "- Save the trained model to disk for later use\n",
    "\n",
    "- Create an API endpoint for real-time classification"
   ]
  },
  {
   "cell_type": "markdown",
   "metadata": {},
   "source": [
    "### 5. Result Visualization"
   ]
  },
  {
   "cell_type": "code",
   "execution_count": null,
   "metadata": {
    "trusted": true
   },
   "outputs": [],
   "source": [
    "sns.set_style('darkgrid')\n",
    "sns.countplot(data=csic_data, x='Unnamed: 0')"
   ]
  }
 ],
 "metadata": {
  "kaggle": {
   "accelerator": "gpu",
   "dataSources": [
    {
     "datasetId": 378374,
     "sourceId": 734120,
     "sourceType": "datasetVersion"
    }
   ],
   "dockerImageVersionId": 30528,
   "isGpuEnabled": true,
   "isInternetEnabled": false,
   "language": "python",
   "sourceType": "notebook"
  },
  "kernelspec": {
   "display_name": "Python 3",
   "language": "python",
   "name": "python3"
  },
  "language_info": {
   "codemirror_mode": {
    "name": "ipython",
    "version": 3
   },
   "file_extension": ".py",
   "mimetype": "text/x-python",
   "name": "python",
   "nbconvert_exporter": "python",
   "pygments_lexer": "ipython3",
   "version": "3.12.4"
  }
 },
 "nbformat": 4,
 "nbformat_minor": 4
}
